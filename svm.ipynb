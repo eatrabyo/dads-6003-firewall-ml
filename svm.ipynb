{
 "cells": [
  {
   "cell_type": "code",
   "execution_count": 1,
   "metadata": {},
   "outputs": [],
   "source": [
    "import pandas as pd\n",
    "import numpy as np\n",
    "from sklearn import svm\n",
    "from sklearn.svm import SVC\n",
    "from sklearn.metrics import classification_report,f1_score\n",
    "from sklearn.preprocessing import StandardScaler\n",
    "from sklearn.model_selection import GridSearchCV\n",
    "from sklearn.model_selection import ParameterGrid"
   ]
  },
  {
   "cell_type": "code",
   "execution_count": 2,
   "metadata": {},
   "outputs": [],
   "source": [
    "train = pd.read_csv('data_source/train.csv')\n",
    "test = pd.read_csv('data_source/test.csv')\n",
    "\n",
    "x_train_byte = train.loc[:,['Destination Port', 'NAT Source Port','Packets', 'Elapsed Time (sec)','Bytes Received']]\n",
    "y_train_byte = train.loc[:,'Action']\n",
    "x_test_byte = test.loc[:,['Destination Port', 'NAT Source Port','Packets', 'Elapsed Time (sec)','Bytes Received']]\n",
    "y_test_byte = test.loc[:,'Action']"
   ]
  },
  {
   "cell_type": "code",
   "execution_count": 3,
   "metadata": {},
   "outputs": [],
   "source": [
    "scaler = StandardScaler()\n",
    "x_train_byte.loc[:,['Packets','Elapsed Time (sec)','Bytes Received']] = scaler.fit_transform(x_train_byte.loc[:,['Packets','Elapsed Time (sec)','Bytes Received']])\n",
    "x_test_byte.loc[:,['Packets','Elapsed Time (sec)','Bytes Received']] = scaler.fit_transform(x_test_byte.loc[:,['Packets','Elapsed Time (sec)','Bytes Received']])\n"
   ]
  },
  {
   "cell_type": "code",
   "execution_count": 4,
   "metadata": {},
   "outputs": [],
   "source": [
    "parameters = [{'kernel': ['rbf'], 'gamma': ['scale', 'auto'],\n",
    "                     'C': [1, 10, 100, 1000]},\n",
    "                    {'kernel': ['linear'], 'C': [1, 10, 100, 1000]},\n",
    "                    {'kernel': ['sigmoid'], 'gamma': ['scale', 'auto'],\n",
    "                     'C': [1, 10, 100, 1000]},\n",
    "                    {'kernel': ['rbf'], 'gamma': ['scale', 'auto'],\n",
    "                     'C': [1, 10, 100, 1000]}]"
   ]
  },
  {
   "cell_type": "code",
   "execution_count": 5,
   "metadata": {},
   "outputs": [],
   "source": [
    "# svc = GridSearchCV(SVC(), parameters, cv=5)\n",
    "# svc.fit(x_train_byte, y_train_byte)\n",
    "# print(svc.best_params_)\n",
    "# print(svc.best_estimator_)\n",
    "# answer = svc.predict(x_test_byte)\n",
    "# print(classification_report(y_test_byte, answer)) "
   ]
  },
  {
   "cell_type": "code",
   "execution_count": 6,
   "metadata": {},
   "outputs": [],
   "source": [
    "grid = ParameterGrid(parameters)"
   ]
  },
  {
   "cell_type": "code",
   "execution_count": 7,
   "metadata": {},
   "outputs": [],
   "source": [
    "# for params in grid:\n",
    "#     clf = SVC(**params)\n",
    "#     clf.fit(x_train_byte, y_train_byte)\n",
    "#     print(\"Parameters:\", params)\n",
    "#     print(\"Score:\", clf.score(x_train_byte, y_train_byte))"
   ]
  },
  {
   "cell_type": "code",
   "execution_count": 8,
   "metadata": {},
   "outputs": [
    {
     "name": "stderr",
     "output_type": "stream",
     "text": [
      "c:\\Users\\Asus\\anaconda3\\lib\\site-packages\\sklearn\\metrics\\_classification.py:1344: UndefinedMetricWarning: Precision and F-score are ill-defined and being set to 0.0 in labels with no predicted samples. Use `zero_division` parameter to control this behavior.\n",
      "  _warn_prf(average, modifier, msg_start, len(result))\n",
      "c:\\Users\\Asus\\anaconda3\\lib\\site-packages\\sklearn\\metrics\\_classification.py:1344: UndefinedMetricWarning: Precision and F-score are ill-defined and being set to 0.0 in labels with no predicted samples. Use `zero_division` parameter to control this behavior.\n",
      "  _warn_prf(average, modifier, msg_start, len(result))\n",
      "c:\\Users\\Asus\\anaconda3\\lib\\site-packages\\sklearn\\metrics\\_classification.py:1344: UndefinedMetricWarning: Precision and F-score are ill-defined and being set to 0.0 in labels with no predicted samples. Use `zero_division` parameter to control this behavior.\n",
      "  _warn_prf(average, modifier, msg_start, len(result))\n"
     ]
    },
    {
     "name": "stdout",
     "output_type": "stream",
     "text": [
      "Train Score\n",
      "               precision    recall  f1-score   support\n",
      "\n",
      "       allow       1.00      0.98      0.99     26348\n",
      "        deny       0.98      0.94      0.96     10491\n",
      "        drop       0.91      1.00      0.95      8995\n",
      "  reset-both       0.00      0.00      0.00        38\n",
      "\n",
      "    accuracy                           0.98     45872\n",
      "   macro avg       0.72      0.73      0.73     45872\n",
      "weighted avg       0.98      0.98      0.98     45872\n",
      "\n",
      "Test Score\n",
      "               precision    recall  f1-score   support\n",
      "\n",
      "       allow       1.00      0.98      0.99     11292\n",
      "        deny       0.98      0.93      0.96      4496\n",
      "        drop       0.90      1.00      0.95      3856\n",
      "  reset-both       0.00      0.00      0.00        16\n",
      "\n",
      "    accuracy                           0.97     19660\n",
      "   macro avg       0.72      0.73      0.72     19660\n",
      "weighted avg       0.98      0.97      0.97     19660\n",
      "\n",
      "AVG F1-Score Train: 0.9754640308170344\n",
      "AVG F1-Score Test: 0.9741304113402885\n"
     ]
    },
    {
     "name": "stderr",
     "output_type": "stream",
     "text": [
      "c:\\Users\\Asus\\anaconda3\\lib\\site-packages\\sklearn\\metrics\\_classification.py:1344: UndefinedMetricWarning: Precision and F-score are ill-defined and being set to 0.0 in labels with no predicted samples. Use `zero_division` parameter to control this behavior.\n",
      "  _warn_prf(average, modifier, msg_start, len(result))\n",
      "c:\\Users\\Asus\\anaconda3\\lib\\site-packages\\sklearn\\metrics\\_classification.py:1344: UndefinedMetricWarning: Precision and F-score are ill-defined and being set to 0.0 in labels with no predicted samples. Use `zero_division` parameter to control this behavior.\n",
      "  _warn_prf(average, modifier, msg_start, len(result))\n",
      "c:\\Users\\Asus\\anaconda3\\lib\\site-packages\\sklearn\\metrics\\_classification.py:1344: UndefinedMetricWarning: Precision and F-score are ill-defined and being set to 0.0 in labels with no predicted samples. Use `zero_division` parameter to control this behavior.\n",
      "  _warn_prf(average, modifier, msg_start, len(result))\n"
     ]
    }
   ],
   "source": [
    "clf = svm.SVC()\n",
    "clf.fit(x_train_byte, y_train_byte)\n",
    "\n",
    "trainn = clf.predict(x_train_byte)\n",
    "train_f1 = f1_score(y_train_byte,trainn,average='weighted')\n",
    "\n",
    "testt = clf.predict(x_test_byte)\n",
    "test_f1 = f1_score(y_test_byte,testt,average='weighted')\n",
    "print('Train Score\\n',classification_report(y_train_byte,trainn))\n",
    "print('Test Score\\n',classification_report(y_test_byte, testt))\n",
    "print(f\"AVG F1-Score Train: {train_f1}\\nAVG F1-Score Test: {test_f1}\")\n",
    "\n"
   ]
  },
  {
   "cell_type": "code",
   "execution_count": 9,
   "metadata": {},
   "outputs": [],
   "source": [
    "grid = ParameterGrid(parameters)\n",
    "best_score = 0\n",
    "best_params = {}\n",
    "\n",
    "for params in grid:\n",
    "    clf = SVC(**params)\n",
    "    clf.fit(x_train_byte, y_train_byte)\n",
    "    y_pred = clf.predict(x_train_byte)\n",
    "    f1 = f1_score(y_train_byte, y_pred,average='weighted')\n",
    "    if f1 > best_score:\n",
    "        best_score = f1\n",
    "        best_params = params\n",
    "\n",
    "print(\"Best parameters:\", best_params)\n",
    "print(\"Best f1 score:\", best_score)"
   ]
  }
 ],
 "metadata": {
  "kernelspec": {
   "display_name": "base",
   "language": "python",
   "name": "python3"
  },
  "language_info": {
   "codemirror_mode": {
    "name": "ipython",
    "version": 3
   },
   "file_extension": ".py",
   "mimetype": "text/x-python",
   "name": "python",
   "nbconvert_exporter": "python",
   "pygments_lexer": "ipython3",
   "version": "3.9.13"
  },
  "orig_nbformat": 4
 },
 "nbformat": 4,
 "nbformat_minor": 2
}
