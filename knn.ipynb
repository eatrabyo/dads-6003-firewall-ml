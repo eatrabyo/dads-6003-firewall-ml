{
 "cells": [
  {
   "cell_type": "code",
   "execution_count": 63,
   "metadata": {},
   "outputs": [],
   "source": [
    "import pandas as pd\n",
    "import numpy as np\n",
    "from sklearn.preprocessing import StandardScaler,RobustScaler\n",
    "from sklearn.neighbors import KNeighborsClassifier\n",
    "from sklearn.metrics import classification_report,f1_score\n",
    "from sklearn.model_selection import GridSearchCV,ParameterGrid,cross_val_score"
   ]
  },
  {
   "cell_type": "code",
   "execution_count": 48,
   "metadata": {},
   "outputs": [],
   "source": [
    "x_train = pd.read_csv('data_source/X_train.csv')\n",
    "y_train = pd.read_csv('data_source/y_train.csv')\n",
    "\n",
    "x_test = pd.read_csv('data_source/X_test.csv')\n",
    "y_test = pd.read_csv('data_source/y_test.csv')\n",
    "\n",
    "x_train_std = x_train.copy()\n",
    "y_train_std = y_train.copy()\n",
    "\n",
    "x_train_robust = x_train.copy()\n",
    "y_train_robust = y_train.copy()\n",
    "\n",
    "x_test_std = x_test.copy()\n",
    "y_test_std = y_test.copy()\n",
    "\n",
    "x_test_robust = x_test.copy()\n",
    "y_test_robust = y_test.copy()\n",
    "\n",
    "x_train_std = x_train_std.loc[:,['Destination Port', 'NAT Source Port','Packets', 'Elapsed Time (sec)','Bytes Received']]\n",
    "y_train_std = y_train_std.loc[:,'Action']\n",
    "x_test_std = x_test_std.loc[:,['Destination Port', 'NAT Source Port','Packets', 'Elapsed Time (sec)','Bytes Received']]\n",
    "y_test_std = y_test_std.loc[:,'Action']\n",
    "\n",
    "x_train_robust = x_train_robust.loc[:,['Destination Port', 'NAT Source Port','Packets', 'Elapsed Time (sec)','Bytes Received']]\n",
    "y_train_robust = y_train_robust.loc[:,'Action']\n",
    "x_test_robust = x_test_robust.loc[:,['Destination Port', 'NAT Source Port','Packets', 'Elapsed Time (sec)','Bytes Received']]\n",
    "y_test_robust = y_test_robust.loc[:,'Action']"
   ]
  },
  {
   "cell_type": "code",
   "execution_count": 49,
   "metadata": {},
   "outputs": [],
   "source": [
    "scaler = StandardScaler()\n",
    "robust = RobustScaler()\n",
    "x_train_std.loc[:,['Packets','Elapsed Time (sec)','Bytes Received']] = scaler.fit_transform(x_train_std.loc[:,['Packets','Elapsed Time (sec)','Bytes Received']])\n",
    "x_test_std.loc[:,['Packets','Elapsed Time (sec)','Bytes Received']] = scaler.fit_transform(x_test_std.loc[:,['Packets','Elapsed Time (sec)','Bytes Received']])\n",
    "\n",
    "x_train_robust.loc[:,['Packets','Elapsed Time (sec)','Bytes Received']] = robust.fit_transform(x_train_robust.loc[:,['Packets','Elapsed Time (sec)','Bytes Received']])\n",
    "x_test_robust.loc[:,['Packets','Elapsed Time (sec)','Bytes Received']] = robust.fit_transform(x_test_robust.loc[:,['Packets','Elapsed Time (sec)','Bytes Received']])"
   ]
  },
  {
   "cell_type": "code",
   "execution_count": 50,
   "metadata": {},
   "outputs": [
    {
     "name": "stdout",
     "output_type": "stream",
     "text": [
      "              precision    recall  f1-score   support\n",
      "\n",
      "           0       1.00      0.97      0.99     11292\n",
      "           1       0.97      0.98      0.97      4496\n",
      "           2       1.00      1.00      1.00      3856\n",
      "           3       0.04      0.62      0.07        16\n",
      "\n",
      "    accuracy                           0.98     19660\n",
      "   macro avg       0.75      0.89      0.76     19660\n",
      "weighted avg       0.99      0.98      0.98     19660\n",
      "\n"
     ]
    }
   ],
   "source": [
    "knn = KNeighborsClassifier(n_neighbors=3)\n",
    "knn.fit(x_train_std,y_train_std)\n",
    "answer = knn.predict(x_test_std)\n",
    "print(classification_report(y_test_std, answer))"
   ]
  },
  {
   "cell_type": "code",
   "execution_count": 51,
   "metadata": {},
   "outputs": [],
   "source": [
    "parameters = {\n",
    "    'n_neighbors':[1, 2, 3, 4, 5, 6, 7, 8, 9, 10],\n",
    "    'weights':['uniform', 'distance'],\n",
    "    'algorithm':['auto', 'ball_tree', 'kd_tree', 'brute']}\n"
   ]
  },
  {
   "attachments": {},
   "cell_type": "markdown",
   "metadata": {},
   "source": [
    "#### Parameter from Gridsearch"
   ]
  },
  {
   "cell_type": "code",
   "execution_count": 52,
   "metadata": {},
   "outputs": [
    {
     "name": "stdout",
     "output_type": "stream",
     "text": [
      "{'algorithm': 'auto', 'n_neighbors': 9, 'weights': 'distance'}\n",
      "KNeighborsClassifier(n_neighbors=9, weights='distance')\n",
      "              precision    recall  f1-score   support\n",
      "\n",
      "           0       1.00      0.96      0.98     11292\n",
      "           1       0.96      0.96      0.96      4496\n",
      "           2       1.00      1.00      1.00      3856\n",
      "           3       0.03      0.94      0.06        16\n",
      "\n",
      "    accuracy                           0.97     19660\n",
      "   macro avg       0.75      0.96      0.75     19660\n",
      "weighted avg       0.99      0.97      0.98     19660\n",
      "\n"
     ]
    }
   ],
   "source": [
    "knn_best = GridSearchCV(knn, parameters, cv=5)\n",
    "#knn_best.fit(X,y_train)\n",
    "knn_best.fit(x_train_robust,y_train_robust)\n",
    "print(knn_best.best_params_)\n",
    "print(knn_best.best_estimator_)\n",
    "answer = knn_best.predict(x_test_robust)\n",
    "print(classification_report(y_test_robust, answer))"
   ]
  },
  {
   "cell_type": "code",
   "execution_count": 59,
   "metadata": {},
   "outputs": [
    {
     "name": "stdout",
     "output_type": "stream",
     "text": [
      "Train Score\n",
      "               precision    recall  f1-score   support\n",
      "\n",
      "           0       1.00      1.00      1.00     25830\n",
      "           1       0.89      0.94      0.91     25165\n",
      "           2       1.00      1.00      1.00     26245\n",
      "           3       0.94      0.89      0.91     25744\n",
      "\n",
      "    accuracy                           0.96    102984\n",
      "   macro avg       0.96      0.96      0.96    102984\n",
      "weighted avg       0.96      0.96      0.96    102984\n",
      "\n",
      "Test Score\n",
      "               precision    recall  f1-score   support\n",
      "\n",
      "           0       1.00      0.96      0.98     11292\n",
      "           1       0.96      0.96      0.96      4496\n",
      "           2       1.00      1.00      1.00      3856\n",
      "           3       0.03      0.94      0.06        16\n",
      "\n",
      "    accuracy                           0.97     19660\n",
      "   macro avg       0.75      0.96      0.75     19660\n",
      "weighted avg       0.99      0.97      0.98     19660\n",
      "\n",
      "AVG F1-Score Train: 0.9566764274719737\n",
      "AVG F1-Score Test: 0.7505109293385833\n"
     ]
    }
   ],
   "source": [
    "knn = KNeighborsClassifier(n_neighbors=9,algorithm='auto',weights='distance')\n",
    "knn.fit(x_train_robust,y_train_robust)\n",
    "\n",
    "train_yhat = knn.predict(x_train_robust)\n",
    "train_f1 = f1_score(y_train_robust,train_yhat,average='macro')\n",
    "\n",
    "test_yhat = knn.predict(x_test_robust)\n",
    "test_f1 = f1_score(y_test_robust,test_yhat,average='macro')\n",
    "print('Train Score\\n',classification_report(y_train_robust,train_yhat))\n",
    "print('Test Score\\n',classification_report(y_test_robust, test_yhat))\n",
    "print(f\"AVG F1-Score Train: {train_f1}\\nAVG F1-Score Test: {test_f1}\")"
   ]
  },
  {
   "attachments": {},
   "cell_type": "markdown",
   "metadata": {},
   "source": [
    "#### Parameter grid for Standardize transform"
   ]
  },
  {
   "cell_type": "code",
   "execution_count": 54,
   "metadata": {},
   "outputs": [
    {
     "name": "stdout",
     "output_type": "stream",
     "text": [
      "F1: 0.75928\n",
      "Grid: {'algorithm': 'ball_tree', 'n_neighbors': 4, 'weights': 'uniform'}\n"
     ]
    }
   ],
   "source": [
    "best_score = 0\n",
    "best_grid = ''\n",
    "for g in ParameterGrid(parameters):\n",
    "    knn.set_params(**g)\n",
    "    knn.fit(x_train_std,y_train_std)\n",
    "    answer = knn.predict(x_test_std)\n",
    "    f1 = f1_score(y_test_std,answer,average='macro')\n",
    "\n",
    "    if f1 > best_score:\n",
    "        best_score = f1\n",
    "        best_grid = g\n",
    "print(\"F1: %0.5f\" % best_score)\n",
    "print(\"Grid:\", best_grid)"
   ]
  },
  {
   "cell_type": "code",
   "execution_count": 60,
   "metadata": {},
   "outputs": [
    {
     "name": "stdout",
     "output_type": "stream",
     "text": [
      "Train Score\n",
      "               precision    recall  f1-score   support\n",
      "\n",
      "           0       0.99      0.99      0.99     25830\n",
      "           1       0.77      0.98      0.86     25165\n",
      "           2       1.00      1.00      1.00     26245\n",
      "           3       0.96      0.71      0.82     25744\n",
      "\n",
      "    accuracy                           0.92    102984\n",
      "   macro avg       0.93      0.92      0.92    102984\n",
      "weighted avg       0.93      0.92      0.92    102984\n",
      "\n",
      "Test Score\n",
      "               precision    recall  f1-score   support\n",
      "\n",
      "           0       1.00      0.97      0.99     11292\n",
      "           1       0.97      0.98      0.97      4496\n",
      "           2       1.00      1.00      1.00      3856\n",
      "           3       0.04      0.62      0.08        16\n",
      "\n",
      "    accuracy                           0.98     19660\n",
      "   macro avg       0.75      0.89      0.76     19660\n",
      "weighted avg       0.99      0.98      0.99     19660\n",
      "\n",
      "AVG F1-Score Train: 0.9195590918206044\n",
      "AVG F1-Score Test: 0.7592758028332826\n"
     ]
    }
   ],
   "source": [
    "knn = KNeighborsClassifier(n_neighbors=4,algorithm='ball_tree',weights='uniform')\n",
    "knn.fit(x_train_std,y_train_std)\n",
    "\n",
    "train_yhat = knn.predict(x_train_std)\n",
    "train_f1 = f1_score(y_train_std,train_yhat,average='macro')\n",
    "\n",
    "test_yhat = knn.predict(x_test_std)\n",
    "test_f1 = f1_score(y_test_std,test_yhat,average='macro')\n",
    "print('Train Score\\n',classification_report(y_train_std,train_yhat))\n",
    "print('Test Score\\n',classification_report(y_test_std, test_yhat))\n",
    "print(f\"AVG F1-Score Train: {train_f1}\\nAVG F1-Score Test: {test_f1}\")"
   ]
  },
  {
   "attachments": {},
   "cell_type": "markdown",
   "metadata": {},
   "source": [
    "### Parameter for Robust transform"
   ]
  },
  {
   "cell_type": "code",
   "execution_count": 56,
   "metadata": {},
   "outputs": [
    {
     "name": "stdout",
     "output_type": "stream",
     "text": [
      "F1: 0.75365\n",
      "Grid: {'algorithm': 'brute', 'n_neighbors': 4, 'weights': 'uniform'}\n"
     ]
    }
   ],
   "source": [
    "best_score = 0\n",
    "best_grid = ''\n",
    "for g in ParameterGrid(parameters):\n",
    "    knn.set_params(**g)\n",
    "    knn.fit(x_train_robust,y_train_robust)\n",
    "    answer = knn.predict(x_test_robust)\n",
    "    f1 = f1_score(y_test_robust,answer,average='macro')\n",
    "\n",
    "    if f1 > best_score:\n",
    "        best_score = f1\n",
    "        best_grid = g\n",
    "print(\"F1: %0.5f\" % best_score)\n",
    "print(\"Grid:\", best_grid)"
   ]
  },
  {
   "cell_type": "code",
   "execution_count": 61,
   "metadata": {},
   "outputs": [
    {
     "name": "stdout",
     "output_type": "stream",
     "text": [
      "Train Score\n",
      "               precision    recall  f1-score   support\n",
      "\n",
      "           0       1.00      0.99      1.00     25830\n",
      "           1       0.77      0.98      0.86     25165\n",
      "           2       1.00      1.00      1.00     26245\n",
      "           3       0.97      0.72      0.82     25744\n",
      "\n",
      "    accuracy                           0.92    102984\n",
      "   macro avg       0.93      0.92      0.92    102984\n",
      "weighted avg       0.93      0.92      0.92    102984\n",
      "\n",
      "Test Score\n",
      "               precision    recall  f1-score   support\n",
      "\n",
      "           0       1.00      0.97      0.98     11292\n",
      "           1       0.97      0.98      0.97      4496\n",
      "           2       1.00      1.00      1.00      3856\n",
      "           3       0.03      0.62      0.06        16\n",
      "\n",
      "    accuracy                           0.98     19660\n",
      "   macro avg       0.75      0.89      0.75     19660\n",
      "weighted avg       0.99      0.98      0.98     19660\n",
      "\n",
      "AVG F1-Score Train: 0.9203482948476003\n",
      "AVG F1-Score Test: 0.7536457020645934\n"
     ]
    }
   ],
   "source": [
    "knn = KNeighborsClassifier(n_neighbors=4,algorithm='brute',weights='uniform')\n",
    "knn.fit(x_train_robust,y_train_robust)\n",
    "\n",
    "train_yhat = knn.predict(x_train_robust)\n",
    "train_f1 = f1_score(y_train_robust,train_yhat,average='macro')\n",
    "\n",
    "test_yhat = knn.predict(x_test_robust)\n",
    "test_f1 = f1_score(y_test_robust,test_yhat,average='macro')\n",
    "print('Train Score\\n',classification_report(y_train_robust,train_yhat))\n",
    "print('Test Score\\n',classification_report(y_test_robust, test_yhat))\n",
    "print(f\"AVG F1-Score Train: {train_f1}\\nAVG F1-Score Test: {test_f1}\")"
   ]
  },
  {
   "cell_type": "code",
   "execution_count": 71,
   "metadata": {},
   "outputs": [
    {
     "name": "stdout",
     "output_type": "stream",
     "text": [
      "0.9137\n"
     ]
    }
   ],
   "source": [
    "cross_std = cross_val_score(KNeighborsClassifier(n_neighbors=4,algorithm='ball_tree',weights='uniform'),x_train_std,y_train_std,cv=5)\n",
    "print(round(np.mean(cross_std),4))"
   ]
  },
  {
   "cell_type": "code",
   "execution_count": 72,
   "metadata": {},
   "outputs": [
    {
     "name": "stdout",
     "output_type": "stream",
     "text": [
      "0.9146\n"
     ]
    }
   ],
   "source": [
    "cross_std = cross_val_score(KNeighborsClassifier(n_neighbors=4,algorithm='brute',weights='uniform'),x_train_robust,y_train_robust,cv=5)\n",
    "print(round(np.mean(cross_std),4))"
   ]
  },
  {
   "cell_type": "code",
   "execution_count": null,
   "metadata": {},
   "outputs": [],
   "source": []
  }
 ],
 "metadata": {
  "kernelspec": {
   "display_name": "venv",
   "language": "python",
   "name": "python3"
  },
  "language_info": {
   "codemirror_mode": {
    "name": "ipython",
    "version": 3
   },
   "file_extension": ".py",
   "mimetype": "text/x-python",
   "name": "python",
   "nbconvert_exporter": "python",
   "pygments_lexer": "ipython3",
   "version": "3.10.4"
  },
  "orig_nbformat": 4
 },
 "nbformat": 4,
 "nbformat_minor": 2
}
