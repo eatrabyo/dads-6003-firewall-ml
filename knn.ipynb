{
 "cells": [
  {
   "cell_type": "code",
   "execution_count": 30,
   "metadata": {},
   "outputs": [],
   "source": [
    "import pandas as pd\n",
    "import numpy as np\n",
    "from sklearn.preprocessing import StandardScaler,RobustScaler\n",
    "from sklearn.neighbors import KNeighborsClassifier\n",
    "from sklearn.metrics import classification_report,f1_score\n",
    "from sklearn.model_selection import GridSearchCV,ParameterGrid"
   ]
  },
  {
   "cell_type": "code",
   "execution_count": 31,
   "metadata": {},
   "outputs": [],
   "source": [
    "train = pd.read_csv('data_source/train.csv')\n",
    "test = pd.read_csv('data_source/test.csv')\n",
    "\n",
    "train_byte = train.copy()\n",
    "test_byte = test.copy()\n",
    "train_robust = train.copy()\n",
    "test_robust = test.copy()\n",
    "\n",
    "x_train_byte = train_byte.loc[:,['Destination Port', 'NAT Source Port','Packets', 'Elapsed Time (sec)','Bytes Received']]\n",
    "y_train_byte = train_byte.loc[:,'Action']\n",
    "x_test_byte = test_byte.loc[:,['Destination Port', 'NAT Source Port','Packets', 'Elapsed Time (sec)','Bytes Received']]\n",
    "y_test_byte = test_byte.loc[:,'Action']\n",
    "\n",
    "x_train_robust = train_robust.loc[:,['Destination Port', 'NAT Source Port','Packets', 'Elapsed Time (sec)','Bytes Received']]\n",
    "y_train_robust = train_robust.loc[:,'Action']\n",
    "x_test_robust = test_robust.loc[:,['Destination Port', 'NAT Source Port','Packets', 'Elapsed Time (sec)','Bytes Received']]\n",
    "y_test_robust = test_robust.loc[:,'Action']"
   ]
  },
  {
   "cell_type": "code",
   "execution_count": 32,
   "metadata": {},
   "outputs": [],
   "source": [
    "scaler = StandardScaler()\n",
    "robust = RobustScaler()\n",
    "x_train_byte.loc[:,['Packets','Elapsed Time (sec)','Bytes Received']] = scaler.fit_transform(x_train_byte.loc[:,['Packets','Elapsed Time (sec)','Bytes Received']])\n",
    "x_test_byte.loc[:,['Packets','Elapsed Time (sec)','Bytes Received']] = scaler.fit_transform(x_test_byte.loc[:,['Packets','Elapsed Time (sec)','Bytes Received']])\n",
    "\n",
    "x_train_robust.loc[:,['Packets','Elapsed Time (sec)','Bytes Received']] = robust.fit_transform(x_train_robust.loc[:,['Packets','Elapsed Time (sec)','Bytes Received']])\n",
    "x_test_robust.loc[:,['Packets','Elapsed Time (sec)','Bytes Received']] = robust.fit_transform(x_test_robust.loc[:,['Packets','Elapsed Time (sec)','Bytes Received']])"
   ]
  },
  {
   "cell_type": "code",
   "execution_count": 33,
   "metadata": {},
   "outputs": [
    {
     "name": "stdout",
     "output_type": "stream",
     "text": [
      "              precision    recall  f1-score   support\n",
      "\n",
      "       allow       1.00      1.00      1.00     11292\n",
      "        deny       0.99      1.00      0.99      4496\n",
      "        drop       1.00      1.00      1.00      3856\n",
      "  reset-both       0.78      0.44      0.56        16\n",
      "\n",
      "    accuracy                           1.00     19660\n",
      "   macro avg       0.94      0.86      0.89     19660\n",
      "weighted avg       1.00      1.00      1.00     19660\n",
      "\n"
     ]
    }
   ],
   "source": [
    "knn = KNeighborsClassifier(n_neighbors=3)\n",
    "knn.fit(x_train_byte,y_train_byte)\n",
    "answer = knn.predict(x_test_byte)\n",
    "print(classification_report(y_test_byte, answer))"
   ]
  },
  {
   "cell_type": "code",
   "execution_count": 34,
   "metadata": {},
   "outputs": [],
   "source": [
    "parameters = {\n",
    "    'n_neighbors':[1, 2, 3, 4, 5, 6, 7, 8, 9, 10],\n",
    "    'weights':['uniform', 'distance'],\n",
    "    'algorithm':['auto', 'ball_tree', 'kd_tree', 'brute']}\n",
    "\n",
    "# knn_best = GridSearchCV(knn, parameters, cv=5)\n",
    "# #knn_best.fit(X,y_train)\n",
    "# knn_best.fit(x_train_byte,y_train_byte)\n",
    "# print(knn_best.best_params_)\n",
    "# print(knn_best.best_estimator_)\n",
    "# answer = knn_best.predict(x_test_byte)\n",
    "# print(classification_report(y_test_byte, answer))"
   ]
  },
  {
   "cell_type": "code",
   "execution_count": 35,
   "metadata": {},
   "outputs": [
    {
     "name": "stdout",
     "output_type": "stream",
     "text": [
      "F1: 0.99627\n",
      "Grid: {'algorithm': 'auto', 'n_neighbors': 4, 'weights': 'distance'}\n"
     ]
    }
   ],
   "source": [
    "best_score = 0\n",
    "best_grid = ''\n",
    "for g in ParameterGrid(parameters):\n",
    "    knn.set_params(**g)\n",
    "    knn.fit(x_train_byte,y_train_byte)\n",
    "    answer = knn.predict(x_test_byte)\n",
    "    f1 = f1_score(y_test_byte,answer,average='weighted')\n",
    "\n",
    "    if f1 > best_score:\n",
    "        best_score = f1\n",
    "        best_grid = g\n",
    "print(\"F1: %0.5f\" % best_score)\n",
    "print(\"Grid:\", best_grid)"
   ]
  },
  {
   "attachments": {},
   "cell_type": "markdown",
   "metadata": {},
   "source": [
    "#### Parameter from Gridsearch"
   ]
  },
  {
   "cell_type": "code",
   "execution_count": 36,
   "metadata": {},
   "outputs": [
    {
     "name": "stdout",
     "output_type": "stream",
     "text": [
      "Train Score\n",
      "               precision    recall  f1-score   support\n",
      "\n",
      "       allow       1.00      1.00      1.00     26348\n",
      "        deny       1.00      1.00      1.00     10491\n",
      "        drop       1.00      1.00      1.00      8995\n",
      "  reset-both       1.00      0.97      0.99        38\n",
      "\n",
      "    accuracy                           1.00     45872\n",
      "   macro avg       1.00      0.99      1.00     45872\n",
      "weighted avg       1.00      1.00      1.00     45872\n",
      "\n",
      "Test Score\n",
      "               precision    recall  f1-score   support\n",
      "\n",
      "       allow       1.00      1.00      1.00     11292\n",
      "        deny       0.99      1.00      0.99      4496\n",
      "        drop       1.00      1.00      1.00      3856\n",
      "  reset-both       1.00      0.62      0.77        16\n",
      "\n",
      "    accuracy                           1.00     19660\n",
      "   macro avg       1.00      0.90      0.94     19660\n",
      "weighted avg       1.00      1.00      1.00     19660\n",
      "\n",
      "AVG F1-Score Train: 0.9989747319149351\n",
      "AVG F1-Score Test: 0.9961038549811314\n"
     ]
    }
   ],
   "source": [
    "knn = KNeighborsClassifier(n_neighbors=6,algorithm='brute',weights='distance')\n",
    "knn.fit(x_train_byte,y_train_byte)\n",
    "\n",
    "train_yhat = knn.predict(x_train_byte)\n",
    "train_f1 = f1_score(y_train_byte,train_yhat,average='weighted')\n",
    "\n",
    "test_yhat = knn.predict(x_test_byte)\n",
    "test_f1 = f1_score(y_test_byte,test_yhat,average='weighted')\n",
    "print('Train Score\\n',classification_report(y_train_byte,train_yhat))\n",
    "print('Test Score\\n',classification_report(y_test_byte, test_yhat))\n",
    "print(f\"AVG F1-Score Train: {train_f1}\\nAVG F1-Score Test: {test_f1}\")"
   ]
  },
  {
   "cell_type": "code",
   "execution_count": 37,
   "metadata": {},
   "outputs": [
    {
     "name": "stdout",
     "output_type": "stream",
     "text": [
      "Train Score\n",
      "               precision    recall  f1-score   support\n",
      "\n",
      "       allow       1.00      1.00      1.00     26348\n",
      "        deny       1.00      1.00      1.00     10491\n",
      "        drop       1.00      1.00      1.00      8995\n",
      "  reset-both       1.00      0.97      0.99        38\n",
      "\n",
      "    accuracy                           1.00     45872\n",
      "   macro avg       1.00      0.99      1.00     45872\n",
      "weighted avg       1.00      1.00      1.00     45872\n",
      "\n",
      "Test Score\n",
      "               precision    recall  f1-score   support\n",
      "\n",
      "       allow       1.00      1.00      1.00     11292\n",
      "        deny       0.99      1.00      0.99      4496\n",
      "        drop       1.00      1.00      1.00      3856\n",
      "  reset-both       0.92      0.69      0.79        16\n",
      "\n",
      "    accuracy                           1.00     19660\n",
      "   macro avg       0.98      0.92      0.94     19660\n",
      "weighted avg       1.00      1.00      1.00     19660\n",
      "\n",
      "AVG F1-Score Train: 0.9989747319149351\n",
      "AVG F1-Score Test: 0.9962691852827408\n"
     ]
    }
   ],
   "source": [
    "knn = KNeighborsClassifier(n_neighbors=4,algorithm='auto',weights='distance')\n",
    "knn.fit(x_train_byte,y_train_byte)\n",
    "\n",
    "train_yhat = knn.predict(x_train_byte)\n",
    "train_f1 = f1_score(y_train_byte,train_yhat,average='weighted')\n",
    "\n",
    "test_yhat = knn.predict(x_test_byte)\n",
    "test_f1 = f1_score(y_test_byte,test_yhat,average='weighted')\n",
    "print('Train Score\\n',classification_report(y_train_byte,train_yhat))\n",
    "print('Test Score\\n',classification_report(y_test_byte, test_yhat))\n",
    "print(f\"AVG F1-Score Train: {train_f1}\\nAVG F1-Score Test: {test_f1}\")"
   ]
  },
  {
   "cell_type": "code",
   "execution_count": 38,
   "metadata": {},
   "outputs": [
    {
     "name": "stdout",
     "output_type": "stream",
     "text": [
      "F1: 0.99779\n",
      "Grid: {'algorithm': 'auto', 'n_neighbors': 4, 'weights': 'distance'}\n"
     ]
    }
   ],
   "source": [
    "best_score = 0\n",
    "best_grid = ''\n",
    "for g in ParameterGrid(parameters):\n",
    "    knn.set_params(**g)\n",
    "    knn.fit(x_train_robust,y_train_robust)\n",
    "    answer = knn.predict(x_test_robust)\n",
    "    f1 = f1_score(y_test_robust,answer,average='weighted')\n",
    "\n",
    "    if f1 > best_score:\n",
    "        best_score = f1\n",
    "        best_grid = g\n",
    "print(\"F1: %0.5f\" % best_score)\n",
    "print(\"Grid:\", best_grid)"
   ]
  },
  {
   "cell_type": "code",
   "execution_count": 39,
   "metadata": {},
   "outputs": [
    {
     "name": "stdout",
     "output_type": "stream",
     "text": [
      "Train Score\n",
      "               precision    recall  f1-score   support\n",
      "\n",
      "       allow       1.00      1.00      1.00     26348\n",
      "        deny       1.00      1.00      1.00     10491\n",
      "        drop       1.00      1.00      1.00      8995\n",
      "  reset-both       1.00      0.97      0.99        38\n",
      "\n",
      "    accuracy                           1.00     45872\n",
      "   macro avg       1.00      0.99      1.00     45872\n",
      "weighted avg       1.00      1.00      1.00     45872\n",
      "\n",
      "Test Score\n",
      "               precision    recall  f1-score   support\n",
      "\n",
      "       allow       1.00      1.00      1.00     11292\n",
      "        deny       1.00      1.00      1.00      4496\n",
      "        drop       1.00      1.00      1.00      3856\n",
      "  reset-both       0.92      0.69      0.79        16\n",
      "\n",
      "    accuracy                           1.00     19660\n",
      "   macro avg       0.98      0.92      0.94     19660\n",
      "weighted avg       1.00      1.00      1.00     19660\n",
      "\n",
      "AVG F1-Score Train: 0.9989747319149351\n",
      "AVG F1-Score Test: 0.9977907978036091\n"
     ]
    }
   ],
   "source": [
    "knn = KNeighborsClassifier(n_neighbors=4,algorithm='auto',weights='distance')\n",
    "knn.fit(x_train_robust,y_train_robust)\n",
    "\n",
    "train_yhat = knn.predict(x_train_robust)\n",
    "train_f1 = f1_score(y_train_robust,train_yhat,average='weighted')\n",
    "\n",
    "test_yhat = knn.predict(x_test_robust)\n",
    "test_f1 = f1_score(y_test_robust,test_yhat,average='weighted')\n",
    "print('Train Score\\n',classification_report(y_train_robust,train_yhat))\n",
    "print('Test Score\\n',classification_report(y_test_robust, test_yhat))\n",
    "print(f\"AVG F1-Score Train: {train_f1}\\nAVG F1-Score Test: {test_f1}\")"
   ]
  },
  {
   "cell_type": "code",
   "execution_count": null,
   "metadata": {},
   "outputs": [],
   "source": []
  }
 ],
 "metadata": {
  "kernelspec": {
   "display_name": "venv",
   "language": "python",
   "name": "python3"
  },
  "language_info": {
   "codemirror_mode": {
    "name": "ipython",
    "version": 3
   },
   "file_extension": ".py",
   "mimetype": "text/x-python",
   "name": "python",
   "nbconvert_exporter": "python",
   "pygments_lexer": "ipython3",
   "version": "3.10.4"
  },
  "orig_nbformat": 4
 },
 "nbformat": 4,
 "nbformat_minor": 2
}
