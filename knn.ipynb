{
 "cells": [
  {
   "cell_type": "code",
   "execution_count": 16,
   "metadata": {},
   "outputs": [],
   "source": [
    "import pandas as pd\n",
    "import numpy as np\n",
    "from sklearn.preprocessing import StandardScaler\n",
    "from sklearn.neighbors import KNeighborsClassifier\n",
    "from sklearn.metrics import classification_report,f1_score\n",
    "from sklearn.model_selection import GridSearchCV"
   ]
  },
  {
   "cell_type": "code",
   "execution_count": 17,
   "metadata": {},
   "outputs": [],
   "source": [
    "train = pd.read_csv('data_source/train.csv')\n",
    "test = pd.read_csv('data_source/test.csv')\n",
    "\n",
    "x_train_byte = train.loc[:,['Destination Port', 'NAT Source Port','Packets', 'Elapsed Time (sec)','Bytes Received']]\n",
    "y_train_byte = train.loc[:,'Action']\n",
    "x_test_byte = test.loc[:,['Destination Port', 'NAT Source Port','Packets', 'Elapsed Time (sec)','Bytes Received']]\n",
    "y_test_byte = test.loc[:,'Action']"
   ]
  },
  {
   "cell_type": "code",
   "execution_count": 18,
   "metadata": {},
   "outputs": [],
   "source": [
    "scaler = StandardScaler()\n",
    "x_train_byte.loc[:,['Packets','Elapsed Time (sec)','Bytes Received']] = scaler.fit_transform(x_train_byte.loc[:,['Packets','Elapsed Time (sec)','Bytes Received']])\n",
    "x_test_byte.loc[:,['Packets','Elapsed Time (sec)','Bytes Received']] = scaler.fit_transform(x_test_byte.loc[:,['Packets','Elapsed Time (sec)','Bytes Received']])"
   ]
  },
  {
   "cell_type": "code",
   "execution_count": 19,
   "metadata": {},
   "outputs": [
    {
     "name": "stdout",
     "output_type": "stream",
     "text": [
      "              precision    recall  f1-score   support\n",
      "\n",
      "       allow       1.00      1.00      1.00     11292\n",
      "        deny       0.99      1.00      0.99      4496\n",
      "        drop       1.00      1.00      1.00      3856\n",
      "  reset-both       0.78      0.44      0.56        16\n",
      "\n",
      "    accuracy                           1.00     19660\n",
      "   macro avg       0.94      0.86      0.89     19660\n",
      "weighted avg       1.00      1.00      1.00     19660\n",
      "\n"
     ]
    }
   ],
   "source": [
    "knn = KNeighborsClassifier(n_neighbors=3)\n",
    "knn.fit(x_train_byte,y_train_byte)\n",
    "answer = knn.predict(x_test_byte)\n",
    "print(classification_report(y_test_byte, answer))"
   ]
  },
  {
   "cell_type": "code",
   "execution_count": 20,
   "metadata": {},
   "outputs": [
    {
     "name": "stdout",
     "output_type": "stream",
     "text": [
      "{'algorithm': 'brute', 'n_neighbors': 6, 'weights': 'distance'}\n",
      "KNeighborsClassifier(algorithm='brute', n_neighbors=6, weights='distance')\n",
      "              precision    recall  f1-score   support\n",
      "\n",
      "       allow       1.00      1.00      1.00     11292\n",
      "        deny       0.99      1.00      0.99      4496\n",
      "        drop       1.00      1.00      1.00      3856\n",
      "  reset-both       1.00      0.62      0.77        16\n",
      "\n",
      "    accuracy                           1.00     19660\n",
      "   macro avg       1.00      0.90      0.94     19660\n",
      "weighted avg       1.00      1.00      1.00     19660\n",
      "\n"
     ]
    }
   ],
   "source": [
    "parameters = {\n",
    "    'n_neighbors':[1, 2, 3, 4, 5, 6, 7, 8, 9, 10],\n",
    "    'weights':['uniform', 'distance'],\n",
    "    'algorithm':['auto', 'ball_tree', 'kd_tree', 'brute']}\n",
    "\n",
    "knn_best = GridSearchCV(knn, parameters, cv=5)\n",
    "#knn_best.fit(X,y_train)\n",
    "knn_best.fit(x_train_byte,y_train_byte)\n",
    "print(knn_best.best_params_)\n",
    "print(knn_best.best_estimator_)\n",
    "answer = knn_best.predict(x_test_byte)\n",
    "print(classification_report(y_test_byte, answer))"
   ]
  },
  {
   "cell_type": "code",
   "execution_count": 21,
   "metadata": {},
   "outputs": [
    {
     "name": "stdout",
     "output_type": "stream",
     "text": [
      "Train Score\n",
      "               precision    recall  f1-score   support\n",
      "\n",
      "       allow       1.00      1.00      1.00     26348\n",
      "        deny       1.00      1.00      1.00     10491\n",
      "        drop       1.00      1.00      1.00      8995\n",
      "  reset-both       1.00      0.97      0.99        38\n",
      "\n",
      "    accuracy                           1.00     45872\n",
      "   macro avg       1.00      0.99      1.00     45872\n",
      "weighted avg       1.00      1.00      1.00     45872\n",
      "\n",
      "Test Score\n",
      "               precision    recall  f1-score   support\n",
      "\n",
      "       allow       1.00      1.00      1.00     11292\n",
      "        deny       0.99      1.00      0.99      4496\n",
      "        drop       1.00      1.00      1.00      3856\n",
      "  reset-both       1.00      0.62      0.77        16\n",
      "\n",
      "    accuracy                           1.00     19660\n",
      "   macro avg       1.00      0.90      0.94     19660\n",
      "weighted avg       1.00      1.00      1.00     19660\n",
      "\n",
      "AVG F1-Score Train: 0.9989747319149351\n",
      "AVG F1-Score Test: 0.9961038549811314\n"
     ]
    }
   ],
   "source": [
    "knn = KNeighborsClassifier(n_neighbors=6,algorithm='brute',weights='distance')\n",
    "knn.fit(x_train_byte,y_train_byte)\n",
    "\n",
    "train_yhat = knn.predict(x_train_byte)\n",
    "train_f1 = f1_score(y_train_byte,train_yhat,average='weighted')\n",
    "\n",
    "test_yhat = knn.predict(x_test_byte)\n",
    "test_f1 = f1_score(y_test_byte,test_yhat,average='weighted')\n",
    "print('Train Score\\n',classification_report(y_train_byte,train_yhat))\n",
    "print('Test Score\\n',classification_report(y_test_byte, test_yhat))\n",
    "print(f\"AVG F1-Score Train: {train_f1}\\nAVG F1-Score Test: {test_f1}\")"
   ]
  },
  {
   "cell_type": "code",
   "execution_count": null,
   "metadata": {},
   "outputs": [],
   "source": []
  }
 ],
 "metadata": {
  "kernelspec": {
   "display_name": "venv",
   "language": "python",
   "name": "python3"
  },
  "language_info": {
   "codemirror_mode": {
    "name": "ipython",
    "version": 3
   },
   "file_extension": ".py",
   "mimetype": "text/x-python",
   "name": "python",
   "nbconvert_exporter": "python",
   "pygments_lexer": "ipython3",
   "version": "3.10.4"
  },
  "orig_nbformat": 4
 },
 "nbformat": 4,
 "nbformat_minor": 2
}
