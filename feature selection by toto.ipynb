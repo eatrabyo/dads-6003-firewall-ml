{
 "cells": [
  {
   "cell_type": "code",
   "execution_count": 1,
   "metadata": {},
   "outputs": [],
   "source": [
    "import pandas as pd\n",
    "import numpy as np\n",
    "import matplotlib.pyplot as plt\n",
    "from sklearn import tree\n",
    "from sklearn.tree import DecisionTreeClassifier\n",
    "from sklearn.metrics import classification_report,f1_score"
   ]
  },
  {
   "cell_type": "code",
   "execution_count": 22,
   "metadata": {},
   "outputs": [],
   "source": [
    "X_test = pd.read_csv('data_source/X_test.csv')\n",
    "y_test = pd.read_csv('data_source/y_test.csv')\n",
    "\n",
    "X_train = pd.read_csv('data_source/X_train.csv')\n",
    "y_train = pd.read_csv('data_source/y_train.csv')"
   ]
  },
  {
   "cell_type": "code",
   "execution_count": 20,
   "metadata": {},
   "outputs": [
    {
     "data": {
      "text/plain": [
       "Source Port             12052\n",
       "Destination Port         1570\n",
       "NAT Source Port         10302\n",
       "NAT Destination Port     1103\n",
       "Bytes                    4310\n",
       "Bytes Sent               3167\n",
       "Bytes Received           3671\n",
       "Packets                   521\n",
       "Elapsed Time (sec)        513\n",
       "pkts_sent                 372\n",
       "pkts_received             433\n",
       "dtype: int64"
      ]
     },
     "execution_count": 20,
     "metadata": {},
     "output_type": "execute_result"
    }
   ],
   "source": [
    "X_test.nunique(axis=0)"
   ]
  },
  {
   "attachments": {},
   "cell_type": "markdown",
   "metadata": {},
   "source": [
    "1. Variance Threshold \n",
    "\n",
    "Reject because all features have high variance"
   ]
  },
  {
   "cell_type": "code",
   "execution_count": 7,
   "metadata": {},
   "outputs": [],
   "source": [
    "# import ordinal encoder from sklearn\n",
    "from sklearn.preprocessing import OrdinalEncoder\n",
    "ord_enc = OrdinalEncoder()\n",
    "  \n",
    "# Transform the data\n",
    "X_train[[\"Source Port\",\"Destination Port\",\"NAT Source Port\",\"NAT Destination Port\"]] = ord_enc.fit_transform(X_train[[\"Source Port\",\"Destination Port\",\"NAT Source Port\",\"NAT Destination Port\"]])"
   ]
  },
  {
   "cell_type": "code",
   "execution_count": 13,
   "metadata": {},
   "outputs": [
    {
     "data": {
      "text/plain": [
       "array([ True,  True,  True,  True,  True,  True,  True,  True,  True,\n",
       "        True,  True])"
      ]
     },
     "execution_count": 13,
     "metadata": {},
     "output_type": "execute_result"
    }
   ],
   "source": [
    "from sklearn.feature_selection import VarianceThreshold\n",
    "\n",
    "var_thr = VarianceThreshold(threshold = 0) #Removing both constant and quasi-constant\n",
    "var_thr.fit(X_train)\n",
    "\n",
    "var_thr.get_support()\n",
    "\n",
    "# True is hight variance\n",
    "# False is low variance"
   ]
  },
  {
   "attachments": {},
   "cell_type": "markdown",
   "metadata": {},
   "source": [
    "2. Mean Absolute Difference (MAD)\n",
    "\n",
    "higher the MAD, the higher the discriminatory power"
   ]
  },
  {
   "cell_type": "code",
   "execution_count": 21,
   "metadata": {},
   "outputs": [
    {
     "data": {
      "text/plain": [
       "<BarContainer object of 11 artists>"
      ]
     },
     "execution_count": 21,
     "metadata": {},
     "output_type": "execute_result"
    },
    {
     "data": {
      "image/png": "[encoded data removed]",
      "text/plain": [
       "<Figure size 432x288 with 1 Axes>"
      ]
     },
     "metadata": {
      "needs_background": "light"
     },
     "output_type": "display_data"
    }
   ],
   "source": [
    "# Calculate MAD\n",
    "mean_abs_diff = np.sum(np.abs(X_train - np.mean(X_train, axis=0 )), axis=0) / X_train.shape[0]\n",
    "\n",
    "# Plot the bar chart\n",
    "plt.bar(np.arange(X_train.shape[1]), mean_abs_diff, color='teal')"
   ]
  },
  {
   "attachments": {},
   "cell_type": "markdown",
   "metadata": {},
   "source": [
    "3. Dispersion Ratio"
   ]
  },
  {
   "cell_type": "code",
   "execution_count": 39,
   "metadata": {},
   "outputs": [
    {
     "data": {
      "text/plain": [
       "<BarContainer object of 7 artists>"
      ]
     },
     "execution_count": 39,
     "metadata": {},
     "output_type": "execute_result"
    },
    {
     "data": {
      "image/png": "[encoded data removed]",
      "text/plain": [
       "<Figure size 432x288 with 1 Axes>"
      ]
     },
     "metadata": {
      "needs_background": "light"
     },
     "output_type": "display_data"
    }
   ],
   "source": [
    "X_train = X_train.loc[:,['Bytes', 'Bytes Sent', 'Bytes Received',\n",
    "       'Packets', 'Elapsed Time (sec)', 'pkts_sent', 'pkts_received']] + 1 #To avoid 0 for denominator\n",
    "\n",
    "# Arithmetic Mean\n",
    "am = np.mean(X_train, axis=0)\n",
    "\n",
    "# Geometric Mean\n",
    "gm = np.power( np.prod(X_train, axis=0),1/X_train.shape[0])\n",
    "\n",
    "# Ratio of arithmetic mean and geomatric mean\n",
    "disp_ratio = am/gm\n",
    "\n",
    "# Plot the bar chart\n",
    "plt.bar(np.arange(X_train.shape[1]), disp_ratio, color = 'teal')\n"
   ]
  },
  {
   "attachments": {},
   "cell_type": "markdown",
   "metadata": {},
   "source": [
    "4. Forward Feature Selection"
   ]
  },
  {
   "cell_type": "code",
   "execution_count": 63,
   "metadata": {},
   "outputs": [
    {
     "name": "stderr",
     "output_type": "stream",
     "text": [
      "C:\\Users\\User\\AppData\\Local\\Temp\\ipykernel_1576\\3719736565.py:3: DataConversionWarning: A column-vector y was passed when a 1d array was expected. Please change the shape of y to (n_samples,), for example using ravel().\n",
      "  model.fit(X_train,y_train)\n"
     ]
    },
    {
     "data": {
      "text/plain": [
       "Bytes Received          0.003501\n",
       "pkts_sent               0.004047\n",
       "pkts_received           0.004266\n",
       "Packets                 0.005268\n",
       "Elapsed Time (sec)      0.020149\n",
       "Bytes                   0.068274\n",
       "Bytes Sent              0.068414\n",
       "NAT Destination Port    0.072975\n",
       "Source Port             0.163526\n",
       "NAT Source Port         0.236169\n",
       "Destination Port        0.353413\n",
       "dtype: float64"
      ]
     },
     "execution_count": 63,
     "metadata": {},
     "output_type": "execute_result"
    }
   ],
   "source": [
    "from sklearn.ensemble import ExtraTreesClassifier\n",
    "model = ExtraTreesClassifier()\n",
    "model.fit(X_train,y_train)\n",
    "\n",
    "feat_importances = pd.Series(model.feature_importances_, index=X_train.columns)\n",
    "feat_importances = feat_importances.sort_values()\n",
    "feat_importances"
   ]
  },
  {
   "cell_type": "code",
   "execution_count": 62,
   "metadata": {},
   "outputs": [
    {
     "data": {
      "text/plain": [
       "Bytes Received          0.003326\n",
       "pkts_received           0.004605\n",
       "pkts_sent               0.005881\n",
       "Packets                 0.006391\n",
       "Elapsed Time (sec)      0.020769\n",
       "Bytes Sent              0.069000\n",
       "Bytes                   0.069273\n",
       "NAT Destination Port    0.075657\n",
       "Source Port             0.154009\n",
       "NAT Source Port         0.235845\n",
       "Destination Port        0.355243\n",
       "dtype: float64"
      ]
     },
     "execution_count": 62,
     "metadata": {},
     "output_type": "execute_result"
    }
   ],
   "source": [
    "feat_importances = feat_importances.sort_values()\n",
    "feat_importances"
   ]
  },
  {
   "cell_type": "code",
   "execution_count": 64,
   "metadata": {},
   "outputs": [
    {
     "data": {
      "image/png": "[encoded data removed]",
      "text/plain": [
       "<Figure size 720x720 with 1 Axes>"
      ]
     },
     "metadata": {
      "needs_background": "light"
     },
     "output_type": "display_data"
    }
   ],
   "source": [
    "plt.figure(figsize=(10,10))\n",
    "feat_importances.nlargest(30).plot(kind='barh')\n",
    "plt.show()"
   ]
  }
 ],
 "metadata": {
  "kernelspec": {
   "display_name": "base",
   "language": "python",
   "name": "python3"
  },
  "language_info": {
   "codemirror_mode": {
    "name": "ipython",
    "version": 3
   },
   "file_extension": ".py",
   "mimetype": "text/x-python",
   "name": "python",
   "nbconvert_exporter": "python",
   "pygments_lexer": "ipython3",
   "version": "3.9.12"
  },
  "orig_nbformat": 4
 },
 "nbformat": 4,
 "nbformat_minor": 2
}
