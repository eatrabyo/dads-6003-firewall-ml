{
 "cells": [
  {
   "cell_type": "code",
   "execution_count": 9,
   "metadata": {},
   "outputs": [],
   "source": [
    "import pandas as pd\n",
    "import numpy as np\n",
    "from sklearn.preprocessing import StandardScaler,RobustScaler\n",
    "from sklearn.metrics import confusion_matrix, classification_report\n",
    "from sklearn.metrics import balanced_accuracy_score, accuracy_score, precision_score, recall_score, f1_score\n",
    "from sklearn.model_selection import GridSearchCV,ParameterGrid\n",
    "from sklearn.naive_bayes import CategoricalNB"
   ]
  },
  {
   "cell_type": "code",
   "execution_count": 10,
   "metadata": {},
   "outputs": [],
   "source": [
    "train = pd.read_csv('data_source/train.csv')\n",
    "test = pd.read_csv('data_source/test.csv')\n",
    "\n",
    "train_robust = train.copy()\n",
    "test_robust = test.copy()\n",
    "\n",
    "x_train_robust = train_robust.loc[:,['Destination Port', 'NAT Source Port','Packets', 'Elapsed Time (sec)','Bytes Received']]\n",
    "y_train_robust = train_robust.loc[:,'Action']\n",
    "x_test_robust = test_robust.loc[:,['Destination Port', 'NAT Source Port','Packets', 'Elapsed Time (sec)','Bytes Received']]\n",
    "y_test_robust = test_robust.loc[:,'Action']"
   ]
  },
  {
   "cell_type": "code",
   "execution_count": 11,
   "metadata": {},
   "outputs": [],
   "source": [
    "scaler = RobustScaler()\n",
    "\n",
    "x_train_robust.loc[:,['Packets','Elapsed Time (sec)','Bytes Received']] = scaler.fit_transform(x_train_robust.loc[:,['Packets','Elapsed Time (sec)','Bytes Received']])\n",
    "x_test_robust.loc[:,['Packets','Elapsed Time (sec)','Bytes Received']] = scaler.fit_transform(x_test_robust.loc[:,['Packets','Elapsed Time (sec)','Bytes Received']])\n",
    "\n",
    "# y_train_robust.replace({'allow':0, 'deny':1, 'drop':2, 'reset-both':3},inplace=True)\n",
    "# y_test_robust.replace({'allow':0, 'deny':1, 'drop':2, 'reset-both':3},inplace=True)"
   ]
  },
  {
   "cell_type": "code",
   "execution_count": 12,
   "metadata": {},
   "outputs": [
    {
     "name": "stdout",
     "output_type": "stream",
     "text": [
      "              precision    recall  f1-score   support\n",
      "\n",
      "       allow       1.00      1.00      1.00     11292\n",
      "        deny       0.99      0.99      0.99      4496\n",
      "        drop       1.00      1.00      1.00      3856\n",
      "  reset-both       0.00      0.00      0.00        16\n",
      "\n",
      "    accuracy                           1.00     19660\n",
      "   macro avg       0.75      0.75      0.75     19660\n",
      "weighted avg       0.99      1.00      1.00     19660\n",
      "\n"
     ]
    },
    {
     "name": "stderr",
     "output_type": "stream",
     "text": [
      "/Users/itthisak/Desktop/Nida/dads-6003-firewall-ml/venv/lib/python3.10/site-packages/sklearn/metrics/_classification.py:1344: UndefinedMetricWarning: Precision and F-score are ill-defined and being set to 0.0 in labels with no predicted samples. Use `zero_division` parameter to control this behavior.\n",
      "  _warn_prf(average, modifier, msg_start, len(result))\n",
      "/Users/itthisak/Desktop/Nida/dads-6003-firewall-ml/venv/lib/python3.10/site-packages/sklearn/metrics/_classification.py:1344: UndefinedMetricWarning: Precision and F-score are ill-defined and being set to 0.0 in labels with no predicted samples. Use `zero_division` parameter to control this behavior.\n",
      "  _warn_prf(average, modifier, msg_start, len(result))\n",
      "/Users/itthisak/Desktop/Nida/dads-6003-firewall-ml/venv/lib/python3.10/site-packages/sklearn/metrics/_classification.py:1344: UndefinedMetricWarning: Precision and F-score are ill-defined and being set to 0.0 in labels with no predicted samples. Use `zero_division` parameter to control this behavior.\n",
      "  _warn_prf(average, modifier, msg_start, len(result))\n"
     ]
    }
   ],
   "source": [
    "clf = CategoricalNB()\n",
    "clf.fit(x_train_robust,y_train_robust)\n",
    "answer = clf.predict(x_test_robust)\n",
    "print(classification_report(y_test_robust, answer))"
   ]
  },
  {
   "cell_type": "code",
   "execution_count": 15,
   "metadata": {},
   "outputs": [],
   "source": [
    "parameters = [\n",
    "{'alpha': [0.01, 0.1, 0.5, 1.0, 10.0],\n",
    "          'fit_prior': [True, False],\n",
    "          'class_prior': [None, [0.1,]* 4, ]\n",
    "         }\n",
    "]"
   ]
  },
  {
   "cell_type": "code",
   "execution_count": 16,
   "metadata": {},
   "outputs": [
    {
     "name": "stdout",
     "output_type": "stream",
     "text": [
      "F1: 0.99527\n",
      "Grid: {'alpha': 10.0, 'class_prior': None, 'fit_prior': True}\n"
     ]
    }
   ],
   "source": [
    "best_score = 0\n",
    "best_grid = ''\n",
    "for g in ParameterGrid(parameters):\n",
    "    clf.set_params(**g)\n",
    "    clf.fit(x_train_robust,y_train_robust)\n",
    "    answer = clf.predict(x_test_robust)\n",
    "    f1 = f1_score(y_test_robust,answer,average='weighted')\n",
    "\n",
    "    if f1 > best_score:\n",
    "        best_score = f1\n",
    "        best_grid = g\n",
    "print(\"F1: %0.5f\" % best_score)\n",
    "print(\"Grid:\", best_grid)"
   ]
  },
  {
   "cell_type": "code",
   "execution_count": 17,
   "metadata": {},
   "outputs": [
    {
     "name": "stderr",
     "output_type": "stream",
     "text": [
      "/Users/itthisak/Desktop/Nida/dads-6003-firewall-ml/venv/lib/python3.10/site-packages/sklearn/metrics/_classification.py:1344: UndefinedMetricWarning: Precision and F-score are ill-defined and being set to 0.0 in labels with no predicted samples. Use `zero_division` parameter to control this behavior.\n",
      "  _warn_prf(average, modifier, msg_start, len(result))\n",
      "/Users/itthisak/Desktop/Nida/dads-6003-firewall-ml/venv/lib/python3.10/site-packages/sklearn/metrics/_classification.py:1344: UndefinedMetricWarning: Precision and F-score are ill-defined and being set to 0.0 in labels with no predicted samples. Use `zero_division` parameter to control this behavior.\n",
      "  _warn_prf(average, modifier, msg_start, len(result))\n",
      "/Users/itthisak/Desktop/Nida/dads-6003-firewall-ml/venv/lib/python3.10/site-packages/sklearn/metrics/_classification.py:1344: UndefinedMetricWarning: Precision and F-score are ill-defined and being set to 0.0 in labels with no predicted samples. Use `zero_division` parameter to control this behavior.\n",
      "  _warn_prf(average, modifier, msg_start, len(result))\n",
      "/Users/itthisak/Desktop/Nida/dads-6003-firewall-ml/venv/lib/python3.10/site-packages/sklearn/metrics/_classification.py:1344: UndefinedMetricWarning: Precision and F-score are ill-defined and being set to 0.0 in labels with no predicted samples. Use `zero_division` parameter to control this behavior.\n",
      "  _warn_prf(average, modifier, msg_start, len(result))\n"
     ]
    },
    {
     "name": "stdout",
     "output_type": "stream",
     "text": [
      "Train Score\n",
      "               precision    recall  f1-score   support\n",
      "\n",
      "       allow       1.00      1.00      1.00     26348\n",
      "        deny       0.99      0.99      0.99     10491\n",
      "        drop       1.00      1.00      1.00      8995\n",
      "  reset-both       0.00      0.00      0.00        38\n",
      "\n",
      "    accuracy                           1.00     45872\n",
      "   macro avg       0.75      0.75      0.75     45872\n",
      "weighted avg       1.00      1.00      1.00     45872\n",
      "\n",
      "Test Score\n",
      "               precision    recall  f1-score   support\n",
      "\n",
      "       allow       1.00      1.00      1.00     11292\n",
      "        deny       0.99      0.99      0.99      4496\n",
      "        drop       1.00      1.00      1.00      3856\n",
      "  reset-both       0.00      0.00      0.00        16\n",
      "\n",
      "    accuracy                           1.00     19660\n",
      "   macro avg       0.75      0.75      0.75     19660\n",
      "weighted avg       0.99      1.00      1.00     19660\n",
      "\n",
      "AVG F1-Score Train: 0.9956863959776495\n",
      "AVG F1-Score Test: 0.995274550080834\n"
     ]
    },
    {
     "name": "stderr",
     "output_type": "stream",
     "text": [
      "/Users/itthisak/Desktop/Nida/dads-6003-firewall-ml/venv/lib/python3.10/site-packages/sklearn/metrics/_classification.py:1344: UndefinedMetricWarning: Precision and F-score are ill-defined and being set to 0.0 in labels with no predicted samples. Use `zero_division` parameter to control this behavior.\n",
      "  _warn_prf(average, modifier, msg_start, len(result))\n",
      "/Users/itthisak/Desktop/Nida/dads-6003-firewall-ml/venv/lib/python3.10/site-packages/sklearn/metrics/_classification.py:1344: UndefinedMetricWarning: Precision and F-score are ill-defined and being set to 0.0 in labels with no predicted samples. Use `zero_division` parameter to control this behavior.\n",
      "  _warn_prf(average, modifier, msg_start, len(result))\n"
     ]
    }
   ],
   "source": [
    "clf = CategoricalNB(alpha=10.0,class_prior=None,fit_prior=True)\n",
    "clf.fit(x_train_robust,y_train_robust)\n",
    "\n",
    "train_yhat = clf.predict(x_train_robust)\n",
    "train_f1 = f1_score(y_train_robust,train_yhat,average='weighted')\n",
    "\n",
    "test_yhat = clf.predict(x_test_robust)\n",
    "test_f1 = f1_score(y_test_robust,test_yhat,average='weighted')\n",
    "print('Train Score\\n',classification_report(y_train_robust,train_yhat))\n",
    "print('Test Score\\n',classification_report(y_test_robust, test_yhat))\n",
    "print(f\"AVG F1-Score Train: {train_f1}\\nAVG F1-Score Test: {test_f1}\")"
   ]
  },
  {
   "cell_type": "code",
   "execution_count": null,
   "metadata": {},
   "outputs": [],
   "source": []
  }
 ],
 "metadata": {
  "kernelspec": {
   "display_name": "venv",
   "language": "python",
   "name": "python3"
  },
  "language_info": {
   "codemirror_mode": {
    "name": "ipython",
    "version": 3
   },
   "file_extension": ".py",
   "mimetype": "text/x-python",
   "name": "python",
   "nbconvert_exporter": "python",
   "pygments_lexer": "ipython3",
   "version": "3.10.4"
  },
  "orig_nbformat": 4
 },
 "nbformat": 4,
 "nbformat_minor": 2
}
