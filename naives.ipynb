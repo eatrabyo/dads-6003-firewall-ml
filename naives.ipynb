{
 "cells": [
  {
   "cell_type": "code",
   "execution_count": 24,
   "metadata": {},
   "outputs": [],
   "source": [
    "import pandas as pd\n",
    "import numpy as np\n",
    "from sklearn.preprocessing import StandardScaler,RobustScaler\n",
    "from sklearn.metrics import confusion_matrix, classification_report\n",
    "from sklearn.metrics import balanced_accuracy_score, accuracy_score, precision_score, recall_score, f1_score\n",
    "from sklearn.model_selection import GridSearchCV,ParameterGrid,cross_val_score\n",
    "from sklearn.naive_bayes import CategoricalNB"
   ]
  },
  {
   "cell_type": "code",
   "execution_count": 25,
   "metadata": {},
   "outputs": [],
   "source": [
    "# train = pd.read_csv('data_source/train.csv')\n",
    "# test = pd.read_csv('data_source/test.csv')\n",
    "\n",
    "# train_robust = train.copy()\n",
    "# test_robust = test.copy()\n",
    "\n",
    "x_train = pd.read_csv('data_source/X_train.csv')\n",
    "y_train = pd.read_csv('data_source/y_train.csv')\n",
    "\n",
    "x_test = pd.read_csv('data_source/X_test.csv')\n",
    "y_test = pd.read_csv('data_source/y_test.csv')\n",
    "\n",
    "\n",
    "x_train_std = x_train.copy()\n",
    "y_train_std = y_train.copy()\n",
    "\n",
    "x_train_robust = x_train.copy()\n",
    "y_train_robust = y_train.copy()\n",
    "\n",
    "x_test_std = x_test.copy()\n",
    "y_test_std = y_test.copy()\n",
    "\n",
    "x_test_robust = x_test.copy()\n",
    "y_test_robust = y_test.copy()\n",
    "\n",
    "x_train_std = x_train_std.loc[:,['Destination Port', 'NAT Source Port','Packets', 'Elapsed Time (sec)','Bytes Received']]\n",
    "y_train_std = y_train_std.loc[:,'Action']\n",
    "x_test_std = x_test_std.loc[:,['Destination Port', 'NAT Source Port','Packets', 'Elapsed Time (sec)','Bytes Received']]\n",
    "y_test_std = y_test_std.loc[:,'Action']\n",
    "\n",
    "x_train_robust = x_train_robust.loc[:,['Destination Port', 'NAT Source Port','Packets', 'Elapsed Time (sec)','Bytes Received']]\n",
    "y_train_robust = y_train_robust.loc[:,'Action']\n",
    "x_test_robust = x_test_robust.loc[:,['Destination Port', 'NAT Source Port','Packets', 'Elapsed Time (sec)','Bytes Received']]\n",
    "y_test_robust = y_test_robust.loc[:,'Action']"
   ]
  },
  {
   "cell_type": "code",
   "execution_count": 26,
   "metadata": {},
   "outputs": [],
   "source": [
    "scaler = StandardScaler()\n",
    "robust = RobustScaler()\n",
    "\n",
    "x_train_std.loc[:,['Packets','Elapsed Time (sec)','Bytes Received']] = scaler.fit_transform(x_train_std.loc[:,['Packets','Elapsed Time (sec)','Bytes Received']])\n",
    "x_test_std.loc[:,['Packets','Elapsed Time (sec)','Bytes Received']] = scaler.fit_transform(x_test_std.loc[:,['Packets','Elapsed Time (sec)','Bytes Received']])\n",
    "\n",
    "x_train_robust.loc[:,['Packets','Elapsed Time (sec)','Bytes Received']] = robust.fit_transform(x_train_robust.loc[:,['Packets','Elapsed Time (sec)','Bytes Received']])\n",
    "x_test_robust.loc[:,['Packets','Elapsed Time (sec)','Bytes Received']] = robust.fit_transform(x_test_robust.loc[:,['Packets','Elapsed Time (sec)','Bytes Received']])\n"
   ]
  },
  {
   "cell_type": "code",
   "execution_count": 11,
   "metadata": {},
   "outputs": [
    {
     "name": "stdout",
     "output_type": "stream",
     "text": [
      "              precision    recall  f1-score   support\n",
      "\n",
      "           0       1.00      0.46      0.63     11292\n",
      "           1       0.47      0.97      0.64      4496\n",
      "           2       0.99      1.00      0.99      3856\n",
      "           3       0.01      0.88      0.02        16\n",
      "\n",
      "    accuracy                           0.69     19660\n",
      "   macro avg       0.62      0.83      0.57     19660\n",
      "weighted avg       0.88      0.69      0.70     19660\n",
      "\n"
     ]
    }
   ],
   "source": [
    "clf = CategoricalNB()\n",
    "clf.fit(x_train_robust,y_train_robust)\n",
    "answer = clf.predict(x_test_robust)\n",
    "print(classification_report(y_test_robust, answer))"
   ]
  },
  {
   "cell_type": "code",
   "execution_count": 12,
   "metadata": {},
   "outputs": [],
   "source": [
    "parameters = [\n",
    "{'alpha': [0.01, 0.1, 0.5, 1.0, 10.0],\n",
    "          'fit_prior': [True, False],\n",
    "          'class_prior': [None, [0.1]* 4, ]\n",
    "         }\n",
    "]"
   ]
  },
  {
   "attachments": {},
   "cell_type": "markdown",
   "metadata": {},
   "source": [
    "### Parameter Grid for robust"
   ]
  },
  {
   "cell_type": "code",
   "execution_count": 13,
   "metadata": {},
   "outputs": [
    {
     "name": "stdout",
     "output_type": "stream",
     "text": [
      "F1: 0.61178\n",
      "Grid: {'alpha': 0.01, 'class_prior': None, 'fit_prior': False}\n"
     ]
    }
   ],
   "source": [
    "best_score = 0\n",
    "best_grid = ''\n",
    "for g in ParameterGrid(parameters):\n",
    "    clf.set_params(**g)\n",
    "    clf.fit(x_train_robust,y_train_robust)\n",
    "    answer = clf.predict(x_test_robust)\n",
    "    f1 = f1_score(y_test_robust,answer,average='macro')\n",
    "\n",
    "    if f1 > best_score:\n",
    "        best_score = f1\n",
    "        best_grid = g\n",
    "print(\"F1: %0.5f\" % best_score)\n",
    "print(\"Grid:\", best_grid)"
   ]
  },
  {
   "cell_type": "code",
   "execution_count": 14,
   "metadata": {},
   "outputs": [
    {
     "name": "stdout",
     "output_type": "stream",
     "text": [
      "Train Score\n",
      "               precision    recall  f1-score   support\n",
      "\n",
      "           0       1.00      1.00      1.00     25830\n",
      "           1       0.87      0.96      0.91     25165\n",
      "           2       1.00      1.00      1.00     26245\n",
      "           3       0.95      0.86      0.90     25744\n",
      "\n",
      "    accuracy                           0.95    102984\n",
      "   macro avg       0.96      0.95      0.95    102984\n",
      "weighted avg       0.96      0.95      0.95    102984\n",
      "\n",
      "Test Score\n",
      "               precision    recall  f1-score   support\n",
      "\n",
      "           0       1.00      0.58      0.73     11292\n",
      "           1       0.54      0.97      0.70      4496\n",
      "           2       1.00      1.00      1.00      3856\n",
      "           3       0.01      0.88      0.02        16\n",
      "\n",
      "    accuracy                           0.75     19660\n",
      "   macro avg       0.64      0.85      0.61     19660\n",
      "weighted avg       0.89      0.75      0.77     19660\n",
      "\n",
      "AVG F1-Score Train: 0.9537144790708485\n",
      "AVG F1-Score Test: 0.6117765369343429\n"
     ]
    }
   ],
   "source": [
    "clf = CategoricalNB(alpha=0.01,class_prior=None,fit_prior=False)\n",
    "clf.fit(x_train_robust,y_train_robust)\n",
    "\n",
    "train_yhat = clf.predict(x_train_robust)\n",
    "train_f1 = f1_score(y_train_robust,train_yhat,average='macro')\n",
    "\n",
    "test_yhat = clf.predict(x_test_robust)\n",
    "test_f1 = f1_score(y_test_robust,test_yhat,average='macro')\n",
    "print('Train Score\\n',classification_report(y_train_robust,train_yhat))\n",
    "print('Test Score\\n',classification_report(y_test_robust, test_yhat))\n",
    "print(f\"AVG F1-Score Train: {train_f1}\\nAVG F1-Score Test: {test_f1}\")"
   ]
  },
  {
   "attachments": {},
   "cell_type": "markdown",
   "metadata": {},
   "source": [
    "### Parameter Grid for Std"
   ]
  },
  {
   "cell_type": "code",
   "execution_count": 15,
   "metadata": {},
   "outputs": [
    {
     "name": "stdout",
     "output_type": "stream",
     "text": [
      "F1: 0.73283\n",
      "Grid: {'alpha': 0.01, 'class_prior': None, 'fit_prior': True}\n"
     ]
    }
   ],
   "source": [
    "best_score = 0\n",
    "best_grid = ''\n",
    "for g in ParameterGrid(parameters):\n",
    "    clf.set_params(**g)\n",
    "    clf.fit(x_train_std,y_train_std)\n",
    "    answer = clf.predict(x_test_std)\n",
    "    f1 = f1_score(y_test_std,answer,average='macro')\n",
    "\n",
    "    if f1 > best_score:\n",
    "        best_score = f1\n",
    "        best_grid = g\n",
    "print(\"F1: %0.5f\" % best_score)\n",
    "print(\"Grid:\", best_grid)"
   ]
  },
  {
   "cell_type": "code",
   "execution_count": 17,
   "metadata": {},
   "outputs": [
    {
     "name": "stdout",
     "output_type": "stream",
     "text": [
      "Train Score\n",
      "               precision    recall  f1-score   support\n",
      "\n",
      "           0       1.00      0.82      0.90     25830\n",
      "           1       0.84      0.95      0.89     25165\n",
      "           2       1.00      1.00      1.00     26245\n",
      "           3       0.83      0.86      0.85     25744\n",
      "\n",
      "    accuracy                           0.91    102984\n",
      "   macro avg       0.92      0.91      0.91    102984\n",
      "weighted avg       0.92      0.91      0.91    102984\n",
      "\n",
      "Test Score\n",
      "               precision    recall  f1-score   support\n",
      "\n",
      "           0       1.00      0.23      0.38     11292\n",
      "           1       0.39      0.97      0.56      4496\n",
      "           2       1.00      1.00      1.00      3856\n",
      "           3       0.01      0.88      0.01        16\n",
      "\n",
      "    accuracy                           0.55     19660\n",
      "   macro avg       0.60      0.77      0.49     19660\n",
      "weighted avg       0.86      0.55      0.54     19660\n",
      "\n",
      "AVG F1-Score Train: 0.910731665502352\n",
      "AVG F1-Score Test: 0.4865793902448771\n"
     ]
    }
   ],
   "source": [
    "clf = CategoricalNB(alpha=0.01,class_prior=None,fit_prior=True)\n",
    "clf.fit(x_train_robust,y_train_robust)\n",
    "\n",
    "train_yhat = clf.predict(x_train_std)\n",
    "train_f1 = f1_score(y_train_std,train_yhat,average='macro')\n",
    "\n",
    "test_yhat = clf.predict(x_test_std)\n",
    "test_f1 = f1_score(y_test_std,test_yhat,average='macro')\n",
    "print('Train Score\\n',classification_report(y_train_std,train_yhat))\n",
    "print('Test Score\\n',classification_report(y_test_std, test_yhat))\n",
    "print(f\"AVG F1-Score Train: {train_f1}\\nAVG F1-Score Test: {test_f1}\")"
   ]
  },
  {
   "cell_type": "code",
   "execution_count": 27,
   "metadata": {},
   "outputs": [
    {
     "name": "stdout",
     "output_type": "stream",
     "text": [
      "nan\n"
     ]
    },
    {
     "name": "stderr",
     "output_type": "stream",
     "text": [
      "/Users/itthisak/Desktop/Nida/dads-6003-firewall-ml/venv/lib/python3.10/site-packages/sklearn/model_selection/_validation.py:794: UserWarning: Scoring failed. The score on this train-test partition for these parameters will be set to nan. Details: \n",
      "Traceback (most recent call last):\n",
      "  File \"/Users/itthisak/Desktop/Nida/dads-6003-firewall-ml/venv/lib/python3.10/site-packages/sklearn/metrics/_scorer.py\", line 117, in __call__\n",
      "    score = scorer(estimator, *args, **kwargs)\n",
      "  File \"/Users/itthisak/Desktop/Nida/dads-6003-firewall-ml/venv/lib/python3.10/site-packages/sklearn/metrics/_scorer.py\", line 444, in _passthrough_scorer\n",
      "    return estimator.score(*args, **kwargs)\n",
      "  File \"/Users/itthisak/Desktop/Nida/dads-6003-firewall-ml/venv/lib/python3.10/site-packages/sklearn/base.py\", line 668, in score\n",
      "    return accuracy_score(y, self.predict(X), sample_weight=sample_weight)\n",
      "  File \"/Users/itthisak/Desktop/Nida/dads-6003-firewall-ml/venv/lib/python3.10/site-packages/sklearn/naive_bayes.py\", line 106, in predict\n",
      "    jll = self._joint_log_likelihood(X)\n",
      "  File \"/Users/itthisak/Desktop/Nida/dads-6003-firewall-ml/venv/lib/python3.10/site-packages/sklearn/naive_bayes.py\", line 1530, in _joint_log_likelihood\n",
      "    jll += self.feature_log_prob_[i][:, indices].T\n",
      "IndexError: index 29151 is out of bounds for axis 1 with size 29151\n",
      "\n",
      "  warnings.warn(\n",
      "/Users/itthisak/Desktop/Nida/dads-6003-firewall-ml/venv/lib/python3.10/site-packages/sklearn/model_selection/_validation.py:794: UserWarning: Scoring failed. The score on this train-test partition for these parameters will be set to nan. Details: \n",
      "Traceback (most recent call last):\n",
      "  File \"/Users/itthisak/Desktop/Nida/dads-6003-firewall-ml/venv/lib/python3.10/site-packages/sklearn/metrics/_scorer.py\", line 117, in __call__\n",
      "    score = scorer(estimator, *args, **kwargs)\n",
      "  File \"/Users/itthisak/Desktop/Nida/dads-6003-firewall-ml/venv/lib/python3.10/site-packages/sklearn/metrics/_scorer.py\", line 444, in _passthrough_scorer\n",
      "    return estimator.score(*args, **kwargs)\n",
      "  File \"/Users/itthisak/Desktop/Nida/dads-6003-firewall-ml/venv/lib/python3.10/site-packages/sklearn/base.py\", line 668, in score\n",
      "    return accuracy_score(y, self.predict(X), sample_weight=sample_weight)\n",
      "  File \"/Users/itthisak/Desktop/Nida/dads-6003-firewall-ml/venv/lib/python3.10/site-packages/sklearn/naive_bayes.py\", line 106, in predict\n",
      "    jll = self._joint_log_likelihood(X)\n",
      "  File \"/Users/itthisak/Desktop/Nida/dads-6003-firewall-ml/venv/lib/python3.10/site-packages/sklearn/naive_bayes.py\", line 1530, in _joint_log_likelihood\n",
      "    jll += self.feature_log_prob_[i][:, indices].T\n",
      "IndexError: index 52 is out of bounds for axis 1 with size 45\n",
      "\n",
      "  warnings.warn(\n",
      "/Users/itthisak/Desktop/Nida/dads-6003-firewall-ml/venv/lib/python3.10/site-packages/sklearn/model_selection/_validation.py:794: UserWarning: Scoring failed. The score on this train-test partition for these parameters will be set to nan. Details: \n",
      "Traceback (most recent call last):\n",
      "  File \"/Users/itthisak/Desktop/Nida/dads-6003-firewall-ml/venv/lib/python3.10/site-packages/sklearn/metrics/_scorer.py\", line 117, in __call__\n",
      "    score = scorer(estimator, *args, **kwargs)\n",
      "  File \"/Users/itthisak/Desktop/Nida/dads-6003-firewall-ml/venv/lib/python3.10/site-packages/sklearn/metrics/_scorer.py\", line 444, in _passthrough_scorer\n",
      "    return estimator.score(*args, **kwargs)\n",
      "  File \"/Users/itthisak/Desktop/Nida/dads-6003-firewall-ml/venv/lib/python3.10/site-packages/sklearn/base.py\", line 668, in score\n",
      "    return accuracy_score(y, self.predict(X), sample_weight=sample_weight)\n",
      "  File \"/Users/itthisak/Desktop/Nida/dads-6003-firewall-ml/venv/lib/python3.10/site-packages/sklearn/naive_bayes.py\", line 106, in predict\n",
      "    jll = self._joint_log_likelihood(X)\n",
      "  File \"/Users/itthisak/Desktop/Nida/dads-6003-firewall-ml/venv/lib/python3.10/site-packages/sklearn/naive_bayes.py\", line 1530, in _joint_log_likelihood\n",
      "    jll += self.feature_log_prob_[i][:, indices].T\n",
      "IndexError: index 3272 is out of bounds for axis 1 with size 3271\n",
      "\n",
      "  warnings.warn(\n"
     ]
    }
   ],
   "source": [
    "cross_std = cross_val_score(CategoricalNB(alpha=0.01,class_prior=None,fit_prior=True),x_train_std,y_train_std,cv=5)\n",
    "print(round(np.mean(cross_std),4))"
   ]
  },
  {
   "cell_type": "code",
   "execution_count": 28,
   "metadata": {},
   "outputs": [
    {
     "name": "stderr",
     "output_type": "stream",
     "text": [
      "/Users/itthisak/Desktop/Nida/dads-6003-firewall-ml/venv/lib/python3.10/site-packages/sklearn/model_selection/_validation.py:794: UserWarning: Scoring failed. The score on this train-test partition for these parameters will be set to nan. Details: \n",
      "Traceback (most recent call last):\n",
      "  File \"/Users/itthisak/Desktop/Nida/dads-6003-firewall-ml/venv/lib/python3.10/site-packages/sklearn/metrics/_scorer.py\", line 117, in __call__\n",
      "    score = scorer(estimator, *args, **kwargs)\n",
      "  File \"/Users/itthisak/Desktop/Nida/dads-6003-firewall-ml/venv/lib/python3.10/site-packages/sklearn/metrics/_scorer.py\", line 444, in _passthrough_scorer\n",
      "    return estimator.score(*args, **kwargs)\n",
      "  File \"/Users/itthisak/Desktop/Nida/dads-6003-firewall-ml/venv/lib/python3.10/site-packages/sklearn/base.py\", line 668, in score\n",
      "    return accuracy_score(y, self.predict(X), sample_weight=sample_weight)\n",
      "  File \"/Users/itthisak/Desktop/Nida/dads-6003-firewall-ml/venv/lib/python3.10/site-packages/sklearn/naive_bayes.py\", line 106, in predict\n",
      "    jll = self._joint_log_likelihood(X)\n",
      "  File \"/Users/itthisak/Desktop/Nida/dads-6003-firewall-ml/venv/lib/python3.10/site-packages/sklearn/naive_bayes.py\", line 1530, in _joint_log_likelihood\n",
      "    jll += self.feature_log_prob_[i][:, indices].T\n",
      "IndexError: index 29151 is out of bounds for axis 1 with size 29151\n",
      "\n",
      "  warnings.warn(\n",
      "/Users/itthisak/Desktop/Nida/dads-6003-firewall-ml/venv/lib/python3.10/site-packages/sklearn/model_selection/_validation.py:794: UserWarning: Scoring failed. The score on this train-test partition for these parameters will be set to nan. Details: \n",
      "Traceback (most recent call last):\n",
      "  File \"/Users/itthisak/Desktop/Nida/dads-6003-firewall-ml/venv/lib/python3.10/site-packages/sklearn/metrics/_scorer.py\", line 117, in __call__\n",
      "    score = scorer(estimator, *args, **kwargs)\n",
      "  File \"/Users/itthisak/Desktop/Nida/dads-6003-firewall-ml/venv/lib/python3.10/site-packages/sklearn/metrics/_scorer.py\", line 444, in _passthrough_scorer\n",
      "    return estimator.score(*args, **kwargs)\n",
      "  File \"/Users/itthisak/Desktop/Nida/dads-6003-firewall-ml/venv/lib/python3.10/site-packages/sklearn/base.py\", line 668, in score\n",
      "    return accuracy_score(y, self.predict(X), sample_weight=sample_weight)\n",
      "  File \"/Users/itthisak/Desktop/Nida/dads-6003-firewall-ml/venv/lib/python3.10/site-packages/sklearn/naive_bayes.py\", line 106, in predict\n",
      "    jll = self._joint_log_likelihood(X)\n",
      "  File \"/Users/itthisak/Desktop/Nida/dads-6003-firewall-ml/venv/lib/python3.10/site-packages/sklearn/naive_bayes.py\", line 1530, in _joint_log_likelihood\n",
      "    jll += self.feature_log_prob_[i][:, indices].T\n",
      "IndexError: index 10824 is out of bounds for axis 1 with size 9284\n",
      "\n",
      "  warnings.warn(\n"
     ]
    },
    {
     "name": "stdout",
     "output_type": "stream",
     "text": [
      "nan\n"
     ]
    },
    {
     "name": "stderr",
     "output_type": "stream",
     "text": [
      "/Users/itthisak/Desktop/Nida/dads-6003-firewall-ml/venv/lib/python3.10/site-packages/sklearn/model_selection/_validation.py:794: UserWarning: Scoring failed. The score on this train-test partition for these parameters will be set to nan. Details: \n",
      "Traceback (most recent call last):\n",
      "  File \"/Users/itthisak/Desktop/Nida/dads-6003-firewall-ml/venv/lib/python3.10/site-packages/sklearn/metrics/_scorer.py\", line 117, in __call__\n",
      "    score = scorer(estimator, *args, **kwargs)\n",
      "  File \"/Users/itthisak/Desktop/Nida/dads-6003-firewall-ml/venv/lib/python3.10/site-packages/sklearn/metrics/_scorer.py\", line 444, in _passthrough_scorer\n",
      "    return estimator.score(*args, **kwargs)\n",
      "  File \"/Users/itthisak/Desktop/Nida/dads-6003-firewall-ml/venv/lib/python3.10/site-packages/sklearn/base.py\", line 668, in score\n",
      "    return accuracy_score(y, self.predict(X), sample_weight=sample_weight)\n",
      "  File \"/Users/itthisak/Desktop/Nida/dads-6003-firewall-ml/venv/lib/python3.10/site-packages/sklearn/naive_bayes.py\", line 106, in predict\n",
      "    jll = self._joint_log_likelihood(X)\n",
      "  File \"/Users/itthisak/Desktop/Nida/dads-6003-firewall-ml/venv/lib/python3.10/site-packages/sklearn/naive_bayes.py\", line 1530, in _joint_log_likelihood\n",
      "    jll += self.feature_log_prob_[i][:, indices].T\n",
      "IndexError: index 3272 is out of bounds for axis 1 with size 3271\n",
      "\n",
      "  warnings.warn(\n"
     ]
    }
   ],
   "source": [
    "cross_std = cross_val_score(CategoricalNB(alpha=0.01,class_prior=None,fit_prior=False),x_train_robust,y_train_robust,cv=5)\n",
    "print(round(np.mean(cross_std),4))"
   ]
  },
  {
   "cell_type": "code",
   "execution_count": null,
   "metadata": {},
   "outputs": [],
   "source": []
  }
 ],
 "metadata": {
  "kernelspec": {
   "display_name": "venv",
   "language": "python",
   "name": "python3"
  },
  "language_info": {
   "codemirror_mode": {
    "name": "ipython",
    "version": 3
   },
   "file_extension": ".py",
   "mimetype": "text/x-python",
   "name": "python",
   "nbconvert_exporter": "python",
   "pygments_lexer": "ipython3",
   "version": "3.10.4"
  },
  "orig_nbformat": 4
 },
 "nbformat": 4,
 "nbformat_minor": 2
}
